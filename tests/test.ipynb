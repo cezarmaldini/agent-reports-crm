{
 "cells": [
  {
   "cell_type": "code",
   "execution_count": 18,
   "id": "ce973c81",
   "metadata": {},
   "outputs": [
    {
     "data": {
      "text/plain": [
       "True"
      ]
     },
     "execution_count": 18,
     "metadata": {},
     "output_type": "execute_result"
    }
   ],
   "source": [
    "import os\n",
    "import requests\n",
    "from dotenv import load_dotenv\n",
    "\n",
    "load_dotenv()"
   ]
  },
  {
   "cell_type": "code",
   "execution_count": 19,
   "id": "869d8d5f",
   "metadata": {},
   "outputs": [
    {
     "name": "stdout",
     "output_type": "stream",
     "text": [
      "eyJ0eXAiOiJKV1QiLCJub25jZSI6ImRSeW1INkFNVThOOXFjSjNicHZpX3hieWRrQS00TjVQNm8zWFMzSE5KTm8iLCJhbGciOiJSUzI1NiIsIng1dCI6IkpZaEFjVFBNWl9MWDZEQmxPV1E3SG4wTmVYRSIsImtpZCI6IkpZaEFjVFBNWl9MWDZEQmxPV1E3SG4wTmVYRSJ9.eyJhdWQiOiJodHRwczovL2dyYXBoLm1pY3Jvc29mdC5jb20iLCJpc3MiOiJodHRwczovL3N0cy53aW5kb3dzLm5ldC84YTYwZTJlMC1jMGRlLTQxODItYWZlMy03NzE3NjdlYTYwMmUvIiwiaWF0IjoxNzU1NjQ4NDA0LCJuYmYiOjE3NTU2NDg0MDQsImV4cCI6MTc1NTY1MjMwNCwiYWlvIjoiazJSZ1lEQ2NWcitjL1hpSTMvY2ZmamMzWHVEVUJ3QT0iLCJhcHBfZGlzcGxheW5hbWUiOiJuOG4tc2hhcmVwb2ludC1pbnRlZ3JhdGlvbiIsImFwcGlkIjoiNTQ5OTIyNmQtYjAxZS00NDE5LThhZTYtMzAxMTIwMzVmNTIwIiwiYXBwaWRhY3IiOiIxIiwiaWRwIjoiaHR0cHM6Ly9zdHMud2luZG93cy5uZXQvOGE2MGUyZTAtYzBkZS00MTgyLWFmZTMtNzcxNzY3ZWE2MDJlLyIsImlkdHlwIjoiYXBwIiwib2lkIjoiMDc2YmYyZDItOWNhMC00NGRiLWE1YzUtZDhkMWQ3YzNmZjRiIiwicmgiOiIxLkFXNEE0T0pnaXQ3QWdrR3Y0M2NYWi1wZ0xnTUFBQUFBQUFBQXdBQUFBQUFBQUFCdUFBQnVBQS4iLCJyb2xlcyI6WyJTaXRlcy5SZWFkLkFsbCIsIlNpdGVzLlJlYWRXcml0ZS5BbGwiLCJGaWxlcy5SZWFkV3JpdGUuQWxsIiwiRmlsZXMuUmVhZC5BbGwiLCJTaXRlcy5GdWxsQ29udHJvbC5BbGwiXSwic3ViIjoiMDc2YmYyZDItOWNhMC00NGRiLWE1YzUtZDhkMWQ3YzNmZjRiIiwidGVuYW50X3JlZ2lvbl9zY29wZSI6IlNBIiwidGlkIjoiOGE2MGUyZTAtYzBkZS00MTgyLWFmZTMtNzcxNzY3ZWE2MDJlIiwidXRpIjoiMjFMN3dIaFRfRTJTSkRNOE9PbEJBQSIsInZlciI6IjEuMCIsIndpZHMiOlsiMDk5N2ExZDAtMGQxZC00YWNiLWI0MDgtZDVjYTczMTIxZTkwIl0sInhtc19mdGQiOiJsRVQzWXFMUmVUSk94Wlc4engtYlNuWHJDTXhZbkJyTHFNTFdDSktxYXJFQmRYTjNaWE4wTXkxa2MyMXoiLCJ4bXNfaWRyZWwiOiIyMiA3IiwieG1zX3JkIjoiMC40MkxsWUJKaXpCTVM0V0FYRWpod3BuUENmb0dybm1zOVNpY0sxbHJMQWtVNWhRUXFQX2RXWjk5UjlWczhRenRmNC1HLTYwQlJEaUVCWmdZSU9BQ2xBUSIsInhtc190Y2R0IjoxNTk4MjY2NzQxfQ.CHojpZYAj69iVRMaz3_qzBzMcVlRjAt0hZwJiAZTyhWFS37BKJt5_gqATJplJC-tO8PTBQfEMzX6ghzw9no6o48SD5Sp0E7fosxinc_MgCXUEEmO0acltpOnP4yvLpCyd3_Fh9M6aleF4eOLDJbyjGYaW-1tuBhSzxpfENN4SAAKEfEYsx8tU22MX-_D6BnS4tpUcymtWIpwNeOOyJrq9UQWaAK8FuQS6i-PpJGWfcOxtYIlVtqD0P89xSHEAH9Z0HdDaxFhe8dcJE97sg_bMmJEzhjJDPDwBtfMAWRGoy1iGfLAdaWS6oKdtBApytcmkl9hz9D-adaBMnfiiZyHoA\n"
     ]
    }
   ],
   "source": [
    "# Autenticação Microsoft Graph\n",
    "TENANT_ID = os.getenv('TENANT_ID')\n",
    "CLIENT_ID = os.getenv('CLIENT_ID')\n",
    "CLIENT_SECRET = os.getenv('CLIENT_SECRET')\n",
    "\n",
    "token_url = f'https://login.microsoftonline.com/{TENANT_ID}/oauth2/v2.0/token'\n",
    "\n",
    "data = {\n",
    "    'grant_type': 'client_credentials',\n",
    "    'client_id': CLIENT_ID,\n",
    "    'client_secret': CLIENT_SECRET,\n",
    "    'scope': 'https://graph.microsoft.com/.default'\n",
    "}\n",
    "\n",
    "response = requests.post(token_url, data=data)\n",
    "\n",
    "access_token = response.json()['access_token']\n",
    "\n",
    "print(access_token)"
   ]
  },
  {
   "cell_type": "code",
   "execution_count": 20,
   "id": "ffd716f8",
   "metadata": {},
   "outputs": [
    {
     "name": "stdout",
     "output_type": "stream",
     "text": [
      "taticogestao.sharepoint.com,d22b24f0-c48c-4852-bc8f-08115334c235,cd8014fe-7126-4ac2-9e58-a7accf46ee98\n"
     ]
    }
   ],
   "source": [
    "SITE_SHAREPOINT = os.getenv('SITE_SHAREPOINT')\n",
    "\n",
    "response_site = requests.get(\n",
    "    f'https://graph.microsoft.com/v1.0/sites/taticogestao.sharepoint.com:/sites/{SITE_SHAREPOINT}',\n",
    "    headers={\n",
    "        'Authorization': f'Bearer {access_token}'\n",
    "    }\n",
    ")\n",
    "\n",
    "site_id = response_site.json().get(\"id\")\n",
    "\n",
    "print(site_id)"
   ]
  },
  {
   "cell_type": "code",
   "execution_count": 21,
   "id": "90fac998",
   "metadata": {},
   "outputs": [
    {
     "name": "stdout",
     "output_type": "stream",
     "text": [
      "b!8CQr0ozEUki8jwgRUzTCNf4UgM0mccJKnlinrM9G7pjRh2kC-8VBTo74zw6OsD1t\n"
     ]
    }
   ],
   "source": [
    "response_drive = requests.get(\n",
    "    f\"https://graph.microsoft.com/v1.0/sites/{site_id}/drive\",\n",
    "    headers={\"Authorization\": f\"Bearer {access_token}\"}\n",
    ")\n",
    "\n",
    "drive_id = response_drive.json()['id']\n",
    "\n",
    "print(drive_id)"
   ]
  },
  {
   "cell_type": "code",
   "execution_count": 22,
   "id": "fb6f2c44",
   "metadata": {},
   "outputs": [
    {
     "name": "stdout",
     "output_type": "stream",
     "text": [
      "[{'createdBy': {'user': {'email': 'felipe@taticosolucoes.com.br', 'id': '4d051d1f-5856-46b6-8fd8-8563eee10f21', 'displayName': 'Felipe Doneda'}}, 'createdDateTime': '2022-02-02T12:05:15Z', 'eTag': '\"{5B5F096C-3572-4A22-93B1-FBD4BEF753CD},2\"', 'id': '01E4COKOLMBFPVW4RVEJFJHMP32S7POU6N', 'lastModifiedBy': {'user': {'email': 'felipe@taticosolucoes.com.br', 'id': '4d051d1f-5856-46b6-8fd8-8563eee10f21', 'displayName': 'Felipe Doneda'}}, 'lastModifiedDateTime': '2022-02-02T12:04:34Z', 'name': '2021', 'parentReference': {'driveType': 'documentLibrary', 'driveId': 'b!8CQr0ozEUki8jwgRUzTCNf4UgM0mccJKnlinrM9G7pjRh2kC-8VBTo74zw6OsD1t', 'id': '01E4COKOJLBE2TVPR4JVE2ZOTSILTL6PQZ', 'name': 'Relatórios CRM', 'path': '/drives/b!8CQr0ozEUki8jwgRUzTCNf4UgM0mccJKnlinrM9G7pjRh2kC-8VBTo74zw6OsD1t/root:/COMERCIAL/04. FUNIL DE VENDAS/Relatórios CRM', 'siteId': 'd22b24f0-c48c-4852-bc8f-08115334c235'}, 'webUrl': 'https://taticogestao.sharepoint.com/sites/COMERCIALCONTRATOS/Documentos%20Compartilhados/COMERCIAL/04.%20FUNIL%20DE%20VENDAS/Relat%C3%B3rios%20CRM/2021', 'cTag': '\"c:{5B5F096C-3572-4A22-93B1-FBD4BEF753CD},0\"', 'fileSystemInfo': {'createdDateTime': '2022-02-02T12:05:15Z', 'lastModifiedDateTime': '2022-02-02T12:04:34Z'}, 'folder': {'childCount': 20}, 'shared': {'scope': 'users'}, 'size': 1119591}, {'createdBy': {'user': {'email': 'felipe@taticosolucoes.com.br', 'id': '4d051d1f-5856-46b6-8fd8-8563eee10f21', 'displayName': 'Felipe Doneda'}}, 'createdDateTime': '2022-02-02T12:07:11Z', 'eTag': '\"{BD69C9AD-4EAC-4441-B898-41F43A7DC0CB},2\"', 'id': '01E4COKONNZFU33LCOIFCLRGCB6Q5H3QGL', 'lastModifiedBy': {'user': {'email': 'felipe@taticosolucoes.com.br', 'id': '4d051d1f-5856-46b6-8fd8-8563eee10f21', 'displayName': 'Felipe Doneda'}}, 'lastModifiedDateTime': '2022-02-02T12:06:08Z', 'name': '2022', 'parentReference': {'driveType': 'documentLibrary', 'driveId': 'b!8CQr0ozEUki8jwgRUzTCNf4UgM0mccJKnlinrM9G7pjRh2kC-8VBTo74zw6OsD1t', 'id': '01E4COKOJLBE2TVPR4JVE2ZOTSILTL6PQZ', 'name': 'Relatórios CRM', 'path': '/drives/b!8CQr0ozEUki8jwgRUzTCNf4UgM0mccJKnlinrM9G7pjRh2kC-8VBTo74zw6OsD1t/root:/COMERCIAL/04. FUNIL DE VENDAS/Relatórios CRM', 'siteId': 'd22b24f0-c48c-4852-bc8f-08115334c235'}, 'webUrl': 'https://taticogestao.sharepoint.com/sites/COMERCIALCONTRATOS/Documentos%20Compartilhados/COMERCIAL/04.%20FUNIL%20DE%20VENDAS/Relat%C3%B3rios%20CRM/2022', 'cTag': '\"c:{BD69C9AD-4EAC-4441-B898-41F43A7DC0CB},0\"', 'fileSystemInfo': {'createdDateTime': '2022-02-02T12:07:11Z', 'lastModifiedDateTime': '2022-02-02T12:06:08Z'}, 'folder': {'childCount': 14}, 'shared': {'scope': 'users'}, 'size': 3137711}, {'createdBy': {'user': {'email': 'felipe@taticosolucoes.com.br', 'id': '4d051d1f-5856-46b6-8fd8-8563eee10f21', 'displayName': 'Felipe Doneda'}}, 'createdDateTime': '2023-01-03T21:10:35Z', 'eTag': '\"{F08F8453-1CEF-49F1-A6B7-F3433DBB2D72},2\"', 'id': '01E4COKOKTQSH7B3Y46FE2NN7TIM63WLLS', 'lastModifiedBy': {'user': {'email': 'felipe@taticosolucoes.com.br', 'id': '4d051d1f-5856-46b6-8fd8-8563eee10f21', 'displayName': 'Felipe Doneda'}}, 'lastModifiedDateTime': '2023-01-03T21:10:13Z', 'name': '2023', 'parentReference': {'driveType': 'documentLibrary', 'driveId': 'b!8CQr0ozEUki8jwgRUzTCNf4UgM0mccJKnlinrM9G7pjRh2kC-8VBTo74zw6OsD1t', 'id': '01E4COKOJLBE2TVPR4JVE2ZOTSILTL6PQZ', 'name': 'Relatórios CRM', 'path': '/drives/b!8CQr0ozEUki8jwgRUzTCNf4UgM0mccJKnlinrM9G7pjRh2kC-8VBTo74zw6OsD1t/root:/COMERCIAL/04. FUNIL DE VENDAS/Relatórios CRM', 'siteId': 'd22b24f0-c48c-4852-bc8f-08115334c235'}, 'webUrl': 'https://taticogestao.sharepoint.com/sites/COMERCIALCONTRATOS/Documentos%20Compartilhados/COMERCIAL/04.%20FUNIL%20DE%20VENDAS/Relat%C3%B3rios%20CRM/2023', 'cTag': '\"c:{F08F8453-1CEF-49F1-A6B7-F3433DBB2D72},0\"', 'fileSystemInfo': {'createdDateTime': '2023-01-03T21:10:35Z', 'lastModifiedDateTime': '2023-01-03T21:10:13Z'}, 'folder': {'childCount': 14}, 'shared': {'scope': 'users'}, 'size': 53514814}, {'createdBy': {'user': {'email': 'felipe@taticosolucoes.com.br', 'id': '4d051d1f-5856-46b6-8fd8-8563eee10f21', 'displayName': 'Felipe Doneda'}}, 'createdDateTime': '2024-01-11T17:42:49Z', 'eTag': '\"{4D0AE1B5-2787-4BE7-8447-F12F417FB815},2\"', 'id': '01E4COKONV4EFE3BZH45FYIR7RF5AX7OAV', 'lastModifiedBy': {'user': {'email': 'felipe@taticosolucoes.com.br', 'id': '4d051d1f-5856-46b6-8fd8-8563eee10f21', 'displayName': 'Felipe Doneda'}}, 'lastModifiedDateTime': '2024-01-11T17:42:28Z', 'name': '2024', 'parentReference': {'driveType': 'documentLibrary', 'driveId': 'b!8CQr0ozEUki8jwgRUzTCNf4UgM0mccJKnlinrM9G7pjRh2kC-8VBTo74zw6OsD1t', 'id': '01E4COKOJLBE2TVPR4JVE2ZOTSILTL6PQZ', 'name': 'Relatórios CRM', 'path': '/drives/b!8CQr0ozEUki8jwgRUzTCNf4UgM0mccJKnlinrM9G7pjRh2kC-8VBTo74zw6OsD1t/root:/COMERCIAL/04. FUNIL DE VENDAS/Relatórios CRM', 'siteId': 'd22b24f0-c48c-4852-bc8f-08115334c235'}, 'webUrl': 'https://taticogestao.sharepoint.com/sites/COMERCIALCONTRATOS/Documentos%20Compartilhados/COMERCIAL/04.%20FUNIL%20DE%20VENDAS/Relat%C3%B3rios%20CRM/2024', 'cTag': '\"c:{4D0AE1B5-2787-4BE7-8447-F12F417FB815},0\"', 'fileSystemInfo': {'createdDateTime': '2024-01-11T17:42:49Z', 'lastModifiedDateTime': '2024-01-11T17:42:28Z'}, 'folder': {'childCount': 13}, 'shared': {'scope': 'users'}, 'size': 35577879}, {'createdBy': {'user': {'email': 'felipe@taticosolucoes.com.br', 'id': '4d051d1f-5856-46b6-8fd8-8563eee10f21', 'displayName': 'Felipe Doneda'}}, 'createdDateTime': '2025-01-06T10:08:09Z', 'eTag': '\"{61CFFAC1-07C4-4F21-8A24-37891BDBF3FE},2\"', 'id': '01E4COKOOB7LHWDRAHEFHYUJBXREN5X476', 'lastModifiedBy': {'user': {'email': 'felipe@taticosolucoes.com.br', 'id': '4d051d1f-5856-46b6-8fd8-8563eee10f21', 'displayName': 'Felipe Doneda'}}, 'lastModifiedDateTime': '2025-01-06T10:07:30Z', 'name': '2025', 'parentReference': {'driveType': 'documentLibrary', 'driveId': 'b!8CQr0ozEUki8jwgRUzTCNf4UgM0mccJKnlinrM9G7pjRh2kC-8VBTo74zw6OsD1t', 'id': '01E4COKOJLBE2TVPR4JVE2ZOTSILTL6PQZ', 'name': 'Relatórios CRM', 'path': '/drives/b!8CQr0ozEUki8jwgRUzTCNf4UgM0mccJKnlinrM9G7pjRh2kC-8VBTo74zw6OsD1t/root:/COMERCIAL/04. FUNIL DE VENDAS/Relatórios CRM', 'siteId': 'd22b24f0-c48c-4852-bc8f-08115334c235'}, 'webUrl': 'https://taticogestao.sharepoint.com/sites/COMERCIALCONTRATOS/Documentos%20Compartilhados/COMERCIAL/04.%20FUNIL%20DE%20VENDAS/Relat%C3%B3rios%20CRM/2025', 'cTag': '\"c:{61CFFAC1-07C4-4F21-8A24-37891BDBF3FE},0\"', 'fileSystemInfo': {'createdDateTime': '2025-01-06T10:08:09Z', 'lastModifiedDateTime': '2025-01-06T10:07:30Z'}, 'folder': {'childCount': 8}, 'shared': {'scope': 'users'}, 'size': 17133199}]\n"
     ]
    }
   ],
   "source": [
    "FOLDER_SHAREPOINT = os.getenv('FOLDER_SHAREPOINT')\n",
    "\n",
    "response_files = requests.get(\n",
    "    f\"https://graph.microsoft.com/v1.0/drives/{drive_id}/root:/{FOLDER_SHAREPOINT}:/children\",\n",
    "    headers={\"Authorization\": f\"Bearer {access_token}\"}  \n",
    ")\n",
    "\n",
    "files = response_files.json()['value']\n",
    "\n",
    "print(files)"
   ]
  }
 ],
 "metadata": {
  "kernelspec": {
   "display_name": ".venv",
   "language": "python",
   "name": "python3"
  },
  "language_info": {
   "codemirror_mode": {
    "name": "ipython",
    "version": 3
   },
   "file_extension": ".py",
   "mimetype": "text/x-python",
   "name": "python",
   "nbconvert_exporter": "python",
   "pygments_lexer": "ipython3",
   "version": "3.12.5"
  }
 },
 "nbformat": 4,
 "nbformat_minor": 5
}
