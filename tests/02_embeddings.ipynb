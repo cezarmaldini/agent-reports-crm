{
 "cells": [
  {
   "cell_type": "code",
   "execution_count": null,
   "id": "90708c78",
   "metadata": {},
   "outputs": [
    {
     "data": {
      "text/plain": [
       "True"
      ]
     },
     "execution_count": 13,
     "metadata": {},
     "output_type": "execute_result"
    }
   ],
   "source": [
    "import os\n",
    "import uuid\n",
    "import json\n",
    "import logging\n",
    "from typing import List, Dict, Any\n",
    "\n",
    "from docling.document_converter import DocumentConverter\n",
    "from docling.chunking import HybridChunker\n",
    "from docling_core.transforms.chunker.tokenizer.huggingface import HuggingFaceTokenizer\n",
    "from transformers import AutoTokenizer\n",
    "from fastembed import TextEmbedding\n",
    "\n",
    "from dotenv import load_dotenv\n",
    "\n",
    "load_dotenv()"
   ]
  },
  {
   "cell_type": "code",
   "execution_count": 14,
   "id": "b54c0c50",
   "metadata": {},
   "outputs": [],
   "source": [
    "def list_files(folder: str) -> List[str]:\n",
    "    files = [\n",
    "        os.path.join(folder, f)\n",
    "        for f in os.listdir(folder)\n",
    "        if f.lower().endswith('.md')\n",
    "    ]\n",
    "    files.sort()\n",
    "    return files"
   ]
  },
  {
   "cell_type": "code",
   "execution_count": 15,
   "id": "c22e2829",
   "metadata": {},
   "outputs": [],
   "source": [
    "def convert_doc(file_path: str):\n",
    "\n",
    "    converter = DocumentConverter()\n",
    "    result = converter.convert(file_path)\n",
    "    return result.document"
   ]
  },
  {
   "cell_type": "code",
   "execution_count": 16,
   "id": "9af1fc21",
   "metadata": {},
   "outputs": [],
   "source": [
    "def create_document_chunks(document, embed_model_id: str, max_tokens: int):\n",
    "    \n",
    "    tokenizer = AutoTokenizer.from_pretrained(embed_model_id)\n",
    "\n",
    "    chunker = HybridChunker(\n",
    "        tokenizer=tokenizer,\n",
    "        max_tokens=max_tokens,\n",
    "        merge_peers=True\n",
    "    )\n",
    "\n",
    "    chunk_iter = chunker.chunk(dl_doc=document)\n",
    "    return list(chunk_iter)"
   ]
  },
  {
   "cell_type": "code",
   "execution_count": 17,
   "id": "8e6630fa",
   "metadata": {},
   "outputs": [],
   "source": [
    "def create_embeddings(chunks: List[Dict[str, Any]], model_name: str):\n",
    "    model = TextEmbedding(model_name)\n",
    "    texts = [chunk.text for chunk in chunks]\n",
    "    embeddings = list(model.passage_embed(texts))\n",
    "    return embeddings"
   ]
  },
  {
   "cell_type": "code",
   "execution_count": 18,
   "id": "c574adcf",
   "metadata": {},
   "outputs": [],
   "source": [
    "def build_records(file_name: str, chunks: List[Dict[str, Any]], embeddings: List[Any]):\n",
    "    records = []\n",
    "    for idx, (chunk, emb) in enumerate(zip(chunks, embeddings)):\n",
    "        record = {\n",
    "            \"id\": str(uuid.uuid4()),\n",
    "            \"content\": chunk.text,\n",
    "            \"metadata\": {\n",
    "                \"source\": file_name,\n",
    "                \"chunk_index\": idx\n",
    "            },\n",
    "            \"embedding\": emb.tolist() if hasattr(emb, \"tolist\") else emb\n",
    "        }\n",
    "        records.append(record)\n",
    "    return records"
   ]
  },
  {
   "cell_type": "code",
   "execution_count": 19,
   "id": "6cf548f5",
   "metadata": {},
   "outputs": [],
   "source": [
    "def insert_records(records: List[Dict[str, Any]], table_name: str = \"documents\"):\n",
    "    supabase = clients.new_supabase_client()\n",
    "    result = supabase.table(table_name).insert(records).execute()\n",
    "    return result"
   ]
  },
  {
   "cell_type": "code",
   "execution_count": 20,
   "id": "2e93cef0",
   "metadata": {},
   "outputs": [],
   "source": [
    "def ingest_files(folder: str, model_name: str, max_tokens: int = 512):\n",
    "    files = list_files(folder)\n",
    "\n",
    "    for file in files:\n",
    "        doc = convert_doc(file)\n",
    "        chunks = create_document_chunks(doc, model_name, max_tokens)\n",
    "        embeddings = create_embeddings(chunks, model_name)\n",
    "        records = build_records(os.path.basename(file), chunks, embeddings)\n",
    "        insert_records(records=records)\n",
    "\n",
    "    return"
   ]
  },
  {
   "cell_type": "code",
   "execution_count": 21,
   "id": "5faa88d4",
   "metadata": {},
   "outputs": [],
   "source": [
    "def main():\n",
    "\n",
    "    FOLDER = 'markdown'\n",
    "    EMBED_MODEL_ID = 'sentence-transformers/paraphrase-multilingual-mpnet-base-v2'\n",
    "\n",
    "    ingestor = ingest_files(folder=FOLDER, model_name=EMBED_MODEL_ID)\n",
    "\n",
    "    return ingestor"
   ]
  },
  {
   "cell_type": "code",
   "execution_count": 22,
   "id": "114b780a",
   "metadata": {},
   "outputs": [
    {
     "name": "stderr",
     "output_type": "stream",
     "text": [
      "C:\\Users\\viva_\\AppData\\Local\\Temp\\ipykernel_26968\\727857944.py:2: UserWarning: The model sentence-transformers/paraphrase-multilingual-mpnet-base-v2 now uses mean pooling instead of CLS embedding. In order to preserve the previous behaviour, consider either pinning fastembed version to 0.5.1 or using `add_custom_model` functionality.\n",
      "  model = TextEmbedding(model_name)\n",
      "C:\\Users\\viva_\\AppData\\Local\\Temp\\ipykernel_26968\\727857944.py:2: UserWarning: The model sentence-transformers/paraphrase-multilingual-mpnet-base-v2 now uses mean pooling instead of CLS embedding. In order to preserve the previous behaviour, consider either pinning fastembed version to 0.5.1 or using `add_custom_model` functionality.\n",
      "  model = TextEmbedding(model_name)\n",
      "C:\\Users\\viva_\\AppData\\Local\\Temp\\ipykernel_26968\\727857944.py:2: UserWarning: The model sentence-transformers/paraphrase-multilingual-mpnet-base-v2 now uses mean pooling instead of CLS embedding. In order to preserve the previous behaviour, consider either pinning fastembed version to 0.5.1 or using `add_custom_model` functionality.\n",
      "  model = TextEmbedding(model_name)\n"
     ]
    }
   ],
   "source": [
    "if __name__ == '__main__':\n",
    "    main()"
   ]
  }
 ],
 "metadata": {
  "kernelspec": {
   "display_name": ".venv",
   "language": "python",
   "name": "python3"
  },
  "language_info": {
   "codemirror_mode": {
    "name": "ipython",
    "version": 3
   },
   "file_extension": ".py",
   "mimetype": "text/x-python",
   "name": "python",
   "nbconvert_exporter": "python",
   "pygments_lexer": "ipython3",
   "version": "3.12.5"
  }
 },
 "nbformat": 4,
 "nbformat_minor": 5
}
