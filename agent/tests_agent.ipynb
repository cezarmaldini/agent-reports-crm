{
 "cells": [
  {
   "cell_type": "code",
   "execution_count": 25,
   "id": "07b99846",
   "metadata": {},
   "outputs": [],
   "source": [
    "import os\n",
    "from fastembed import TextEmbedding\n",
    "from typing import List\n",
    "from supabase import Client, create_client"
   ]
  },
  {
   "cell_type": "code",
   "execution_count": 26,
   "id": "80c8d35f",
   "metadata": {},
   "outputs": [],
   "source": [
    "def new_supabase_client():\n",
    "    url: str = os.environ.get(\"SUPABASE_URL\")\n",
    "    key: str = os.environ.get(\"SUPABASE_KEY\")\n",
    "    \n",
    "    supabase: Client = create_client(url, key)\n",
    "\n",
    "    return supabase"
   ]
  },
  {
   "cell_type": "code",
   "execution_count": 27,
   "id": "9676e373",
   "metadata": {},
   "outputs": [],
   "source": [
    "# Gerar os embeddings de consultas\n",
    "def get_embedding(text: str, embedding_model_id: str) -> List[float]:\n",
    "    try:\n",
    "        embedding_model = TextEmbedding(embedding_model_id)\n",
    "        embeddings = list(embedding_model.passage_embed([text]))\n",
    "        return embeddings[0].tolist()\n",
    "    except Exception as e:\n",
    "        print(f\"Erro ao gerar embedding: {e}\")\n",
    "        return [0] * 768"
   ]
  },
  {
   "cell_type": "code",
   "execution_count": 29,
   "id": "0b031d05",
   "metadata": {},
   "outputs": [],
   "source": [
    "def retrieval_relvante_context(user_query: str, embedding_model_id: str):\n",
    "    query_embedding = get_embedding(user_query, embedding_model_id)\n",
    "\n",
    "    supabase = new_supabase_client()\n",
    "\n",
    "    result = supabase.rpc(\n",
    "        'match_reports_crm',\n",
    "        params= {\n",
    "            'query_embedding': query_embedding,\n",
    "            'match_count': 5\n",
    "        }\n",
    "    ).execute()\n",
    "\n",
    "    if not result.data:\n",
    "        return \"Nenhum dado relevante encontrado.\"\n",
    "    \n",
    "    context = []\n",
    "\n",
    "    for doc in result.data:\n",
    "        chunk = f\"\"\"\n",
    "        # {doc['metadata']['source']} - Chunk {doc['metadata']['chunk_index']}\n",
    "        # {doc['content']}\n",
    "        # \"\"\"\n",
    "\n",
    "        context.append(chunk)\n",
    "\n",
    "    return \"\\n\\n---\\n\\n\".join(context)"
   ]
  },
  {
   "cell_type": "code",
   "execution_count": 30,
   "id": "4066a020",
   "metadata": {},
   "outputs": [
    {
     "name": "stderr",
     "output_type": "stream",
     "text": [
      "C:\\Users\\viva_\\AppData\\Local\\Temp\\ipykernel_13540\\4176236153.py:4: UserWarning: The model sentence-transformers/paraphrase-multilingual-mpnet-base-v2 now uses mean pooling instead of CLS embedding. In order to preserve the previous behaviour, consider either pinning fastembed version to 0.5.1 or using `add_custom_model` functionality.\n",
      "  embedding_model = TextEmbedding(embedding_model_id)\n"
     ]
    },
    {
     "name": "stdout",
     "output_type": "stream",
     "text": [
      "\n",
      "        # 2024.12 - RelatorioMensal.pdf - Chunk 9\n",
      "        # ```\n",
      "Melhores Fontes - Criação 1. Indicação por Parceiros: 2 2. Feiras e Eventos: 1\n",
      "```\n",
      "        # \n",
      "\n",
      "---\n",
      "\n",
      "\n",
      "        # 2024.05 - RelatorioMensal.pdf - Chunk 10\n",
      "        # ```\n",
      "Melhores Fontes - Criação 1. Indicação por Parceiros: 2 2. Feiras e Eventos: 1\n",
      "```\n",
      "        # \n",
      "\n",
      "---\n",
      "\n",
      "\n",
      "        # 2023.08 - RelatorioMensal.pdf - Chunk 11\n",
      "        # ```\n",
      "Melhores Fontes - Criação 1. Indicação por Parceiros: 4 2. Redes Sociais: 2\n",
      "```\n",
      "3. Feiras e Eventos: 1\n",
      "        # \n",
      "\n",
      "---\n",
      "\n",
      "\n",
      "        # 2021.11.08 - RelatorioSemanal.pdf - Chunk 8\n",
      "        # Não existem oportunidades perdidas\n",
      "        # \n",
      "\n",
      "---\n",
      "\n",
      "\n",
      "        # 2021.11.21 - RelatorioSemanal.pdf - Chunk 7\n",
      "        # Não existem oportunidades perdidas\n",
      "        # \n"
     ]
    }
   ],
   "source": [
    "EMBED_MODEL_ID = \"sentence-transformers/paraphrase-multilingual-mpnet-base-v2\"\n",
    "\n",
    "input_user = 'Quais os principais geradores de oportunidade?'\n",
    "\n",
    "context = retrieval_relvante_context(user_query=input_user, embedding_model_id=EMBED_MODEL_ID)\n",
    "\n",
    "print(context)"
   ]
  }
 ],
 "metadata": {
  "kernelspec": {
   "display_name": ".venv",
   "language": "python",
   "name": "python3"
  },
  "language_info": {
   "codemirror_mode": {
    "name": "ipython",
    "version": 3
   },
   "file_extension": ".py",
   "mimetype": "text/x-python",
   "name": "python",
   "nbconvert_exporter": "python",
   "pygments_lexer": "ipython3",
   "version": "3.12.5"
  }
 },
 "nbformat": 4,
 "nbformat_minor": 5
}
