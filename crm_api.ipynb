{
 "cells": [
  {
   "cell_type": "code",
   "execution_count": null,
   "id": "6ffcf9bd",
   "metadata": {},
   "outputs": [
    {
     "data": {
      "text/plain": [
       "True"
      ]
     },
     "execution_count": 8,
     "metadata": {},
     "output_type": "execute_result"
    }
   ],
   "source": [
    "import os\n",
    "import requests\n",
    "import json\n",
    "import pandas as pd\n",
    "from dotenv import load_dotenv\n",
    "\n",
    "load_dotenv()"
   ]
  },
  {
   "cell_type": "code",
   "execution_count": 15,
   "id": "48e33336",
   "metadata": {},
   "outputs": [
    {
     "name": "stdout",
     "output_type": "stream",
     "text": [
      "✅ JSON salvo em: c:\\Users\\viva_\\workspace\\cezarmaldini\\agent-reports-crm\\funil_vendas.json\n"
     ]
    }
   ],
   "source": [
    "import os\n",
    "import requests\n",
    "import json\n",
    "\n",
    "CRM_TOKEN_API = os.environ.get('CRM_TOKEN_API')\n",
    "\n",
    "url_pipelines = 'https://crm.rdstation.com/api/v1/deal_pipelines'\n",
    "\n",
    "params = {\n",
    "    'token': CRM_TOKEN_API,\n",
    "    'deal_pipelines_id': '60f7fc176d9022000c44a7c9',\n",
    "    'page': 1,\n",
    "    'limit': 20\n",
    "}\n",
    "\n",
    "response = requests.get(url=url_pipelines, params=params)\n",
    "data = response.json()\n",
    "\n",
    "file_path = \"funil_vendas.json\"\n",
    "\n",
    "with open(file_path, \"w\", encoding=\"utf-8\") as f:\n",
    "    json.dump(data, f, ensure_ascii=False, indent=4)\n",
    "\n",
    "print(f\"✅ JSON salvo em: {os.path.abspath(file_path)}\")\n"
   ]
  },
  {
   "cell_type": "code",
   "execution_count": 12,
   "id": "a3d302a0",
   "metadata": {},
   "outputs": [
    {
     "name": "stdout",
     "output_type": "stream",
     "text": [
      "\n",
      "✅ DataFrame de Etapas dos Funis:\n"
     ]
    },
    {
     "data": {
      "application/vnd.microsoft.datawrangler.viewer.v0+json": {
       "columns": [
        {
         "name": "index",
         "rawType": "int64",
         "type": "integer"
        },
        {
         "name": "pipeline_id",
         "rawType": "object",
         "type": "string"
        },
        {
         "name": "pipeline_name",
         "rawType": "object",
         "type": "string"
        },
        {
         "name": "stage_id",
         "rawType": "object",
         "type": "string"
        },
        {
         "name": "stage_name",
         "rawType": "object",
         "type": "string"
        }
       ],
       "ref": "e0095c58-767d-44c8-afa6-d6e2001da39e",
       "rows": [
        [
         "0",
         "60f7fc176d9022000c44a7c9",
         "Funil Padrão",
         "60f7fc176d9022000c44a7ca",
         "Sem contato"
        ],
        [
         "1",
         "60f7fc176d9022000c44a7c9",
         "Funil Padrão",
         "60f7fc176d9022000c44a7cb",
         "Contato feito"
        ],
        [
         "2",
         "60f7fc176d9022000c44a7c9",
         "Funil Padrão",
         "60f7fc176d9022000c44a7cc",
         "Identificação do interesse"
        ],
        [
         "3",
         "60f7fc176d9022000c44a7c9",
         "Funil Padrão",
         "60f7fc176d9022000c44a7cd",
         "Apresentação"
        ],
        [
         "4",
         "60f7fc176d9022000c44a7c9",
         "Funil Padrão",
         "60f7fc176d9022000c44a7ce",
         "Proposta enviada"
        ]
       ],
       "shape": {
        "columns": 4,
        "rows": 5
       }
      },
      "text/html": [
       "<div>\n",
       "<style scoped>\n",
       "    .dataframe tbody tr th:only-of-type {\n",
       "        vertical-align: middle;\n",
       "    }\n",
       "\n",
       "    .dataframe tbody tr th {\n",
       "        vertical-align: top;\n",
       "    }\n",
       "\n",
       "    .dataframe thead th {\n",
       "        text-align: right;\n",
       "    }\n",
       "</style>\n",
       "<table border=\"1\" class=\"dataframe\">\n",
       "  <thead>\n",
       "    <tr style=\"text-align: right;\">\n",
       "      <th></th>\n",
       "      <th>pipeline_id</th>\n",
       "      <th>pipeline_name</th>\n",
       "      <th>stage_id</th>\n",
       "      <th>stage_name</th>\n",
       "    </tr>\n",
       "  </thead>\n",
       "  <tbody>\n",
       "    <tr>\n",
       "      <th>0</th>\n",
       "      <td>60f7fc176d9022000c44a7c9</td>\n",
       "      <td>Funil Padrão</td>\n",
       "      <td>60f7fc176d9022000c44a7ca</td>\n",
       "      <td>Sem contato</td>\n",
       "    </tr>\n",
       "    <tr>\n",
       "      <th>1</th>\n",
       "      <td>60f7fc176d9022000c44a7c9</td>\n",
       "      <td>Funil Padrão</td>\n",
       "      <td>60f7fc176d9022000c44a7cb</td>\n",
       "      <td>Contato feito</td>\n",
       "    </tr>\n",
       "    <tr>\n",
       "      <th>2</th>\n",
       "      <td>60f7fc176d9022000c44a7c9</td>\n",
       "      <td>Funil Padrão</td>\n",
       "      <td>60f7fc176d9022000c44a7cc</td>\n",
       "      <td>Identificação do interesse</td>\n",
       "    </tr>\n",
       "    <tr>\n",
       "      <th>3</th>\n",
       "      <td>60f7fc176d9022000c44a7c9</td>\n",
       "      <td>Funil Padrão</td>\n",
       "      <td>60f7fc176d9022000c44a7cd</td>\n",
       "      <td>Apresentação</td>\n",
       "    </tr>\n",
       "    <tr>\n",
       "      <th>4</th>\n",
       "      <td>60f7fc176d9022000c44a7c9</td>\n",
       "      <td>Funil Padrão</td>\n",
       "      <td>60f7fc176d9022000c44a7ce</td>\n",
       "      <td>Proposta enviada</td>\n",
       "    </tr>\n",
       "  </tbody>\n",
       "</table>\n",
       "</div>"
      ],
      "text/plain": [
       "                pipeline_id pipeline_name                  stage_id  \\\n",
       "0  60f7fc176d9022000c44a7c9  Funil Padrão  60f7fc176d9022000c44a7ca   \n",
       "1  60f7fc176d9022000c44a7c9  Funil Padrão  60f7fc176d9022000c44a7cb   \n",
       "2  60f7fc176d9022000c44a7c9  Funil Padrão  60f7fc176d9022000c44a7cc   \n",
       "3  60f7fc176d9022000c44a7c9  Funil Padrão  60f7fc176d9022000c44a7cd   \n",
       "4  60f7fc176d9022000c44a7c9  Funil Padrão  60f7fc176d9022000c44a7ce   \n",
       "\n",
       "                   stage_name  \n",
       "0                 Sem contato  \n",
       "1               Contato feito  \n",
       "2  Identificação do interesse  \n",
       "3                Apresentação  \n",
       "4            Proposta enviada  "
      ]
     },
     "metadata": {},
     "output_type": "display_data"
    }
   ],
   "source": [
    "# ---- Se quiser também expandir as etapas (deal_stages) ----\n",
    "stages_data = []\n",
    "for pipeline in data:\n",
    "    for stage in pipeline.get(\"deal_stages\", []):\n",
    "        stages_data.append({\n",
    "            \"pipeline_id\": pipeline[\"id\"],\n",
    "            \"pipeline_name\": pipeline[\"name\"],\n",
    "            \"stage_id\": stage[\"id\"],\n",
    "            \"stage_name\": stage[\"name\"]\n",
    "        })\n",
    "\n",
    "df_stages = pd.DataFrame(stages_data)\n",
    "\n",
    "print(\"\\n✅ DataFrame de Etapas dos Funis:\")\n",
    "display(df_stages)"
   ]
  }
 ],
 "metadata": {
  "kernelspec": {
   "display_name": ".venv",
   "language": "python",
   "name": "python3"
  },
  "language_info": {
   "codemirror_mode": {
    "name": "ipython",
    "version": 3
   },
   "file_extension": ".py",
   "mimetype": "text/x-python",
   "name": "python",
   "nbconvert_exporter": "python",
   "pygments_lexer": "ipython3",
   "version": "3.12.5"
  }
 },
 "nbformat": 4,
 "nbformat_minor": 5
}
